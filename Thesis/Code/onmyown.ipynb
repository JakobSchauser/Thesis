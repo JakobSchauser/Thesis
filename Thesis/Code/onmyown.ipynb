{
 "cells": [
  {
   "cell_type": "code",
   "execution_count": 43,
   "metadata": {},
   "outputs": [],
   "source": [
    "import jax.numpy as jnp\n",
    "from jax import grad, jit, vmap\n",
    "\n",
    "from jax import random"
   ]
  },
  {
   "cell_type": "code",
   "execution_count": 67,
   "metadata": {},
   "outputs": [
    {
     "name": "stdout",
     "output_type": "stream",
     "text": [
      "computing energy\n",
      "2\n",
      "v Traced<ShapedArray(float32[3,3])>with<DynamicJaxprTrace(level=2/0)>\n",
      "nan\n"
     ]
    }
   ],
   "source": [
    "G = {\n",
    "    \"beta\": 5.0,\n",
    "    \"lambda0\": 0.2,\n",
    "    \"lambda1\": 0.3,\n",
    "    \"lambda2\": 0.5,\n",
    "}\n",
    "\n",
    "    \n",
    "@jit\n",
    "def quadruple(a1, a2, b1, b2) -> float: \n",
    "    return jnp.dot(jnp.cross(a1, b1), jnp.cross(a2, b2))\n",
    "@jit\n",
    "def V(r : float, S : float) -> float:\n",
    "    return jnp.exp(-r) - S * jnp.exp(- r / G[\"beta\"])\n",
    "\n",
    "@jit\n",
    "def S(r, p1, q1, p2, q2) -> float:\n",
    "    S1 = quadruple(p1, p2, r, r)\n",
    "    S2 = quadruple(p1, p2, q1, q2)\n",
    "    S3 = quadruple(q1, q2, r, r)\n",
    "\n",
    "    return G[\"lambda0\"]*S1 + G[\"lambda1\"]*S2 + G[\"lambda2\"]*S3\n",
    "\n",
    "@jit\n",
    "def unpack_cellrow(cellrow : jnp.ndarray) -> tuple[jnp.ndarray, jnp.ndarray, jnp.ndarray]:\n",
    "    pos = cellrow[0]\n",
    "    p = cellrow[1]\n",
    "    q = cellrow[2]\n",
    "    return pos, p, q\n",
    "\n",
    "@jit\n",
    "def U(cellrow1 : jnp.ndarray, cellrow2 : jnp.ndarray) -> float:\n",
    "\n",
    "    pos1, p1, q1 = unpack_cellrow(cellrow1)\n",
    "    pos2, p2, q2 = unpack_cellrow(cellrow2)\n",
    "    \n",
    "   \n",
    "\n",
    "    _dir = pos1 - pos2\n",
    "\n",
    "    r = jnp.sqrt(jnp.dot(_dir, _dir))\n",
    "\n",
    "    s = S(_dir, p1, q1, p2, q2)\n",
    "\n",
    "    v = V(r, s)\n",
    "    # take care of the case where the cells are the same\n",
    "    print(\"v\", v)\n",
    "    return jnp.where(jnp.array_equal(pos1, pos2), 0.0, v)\n",
    "\n",
    "\n",
    "\n",
    "def get_IC(N : int) -> jnp.ndarray:\n",
    "\n",
    "    # N random points in 3D\n",
    "    key = random.PRNGKey(0)\n",
    "    pos = random.normal(key, (N, 3))\n",
    "\n",
    "    # N vectors pointing up\n",
    "    p = jnp.repeat(jnp.array([[0, 0, 1]]), N, axis=0)\n",
    "\n",
    "    # N vectors pointing right\n",
    "    q = jnp.repeat(jnp.array([[0, 1, 0]]), N, axis=0)\n",
    "\n",
    "    # combine them\n",
    "    cells = jnp.stack([pos, p, q], axis=1)\n",
    "\n",
    "    return cells\n",
    "\n",
    "# compute the energy of the system\n",
    "def U_sum(cells : jnp.ndarray):\n",
    "    print(\"computing energy\")\n",
    "    print(len(cells))\n",
    "\n",
    "    # use the jax map function to compute the energy of each cell\n",
    "    U_cells = vmap(U, (0, None), 0)(cells, cells)\n",
    "\n",
    "    # sum the energies\n",
    "    U_sum = jnp.sum(U_cells)\n",
    "\n",
    "\n",
    "    return U_sum\n",
    "\n",
    "# jaxify the energy function\n",
    "# U_sum_jax = jit(U_sum)\n",
    "\n",
    "cells = get_IC(2)\n",
    "\n",
    "\n",
    "print(U_sum(cells))\n",
    "\n"
   ]
  },
  {
   "cell_type": "code",
   "execution_count": 48,
   "metadata": {},
   "outputs": [
    {
     "data": {
      "text/plain": [
       "Array([0., 1., 0.], dtype=float32)"
      ]
     },
     "execution_count": 48,
     "metadata": {},
     "output_type": "execute_result"
    }
   ],
   "source": [
    "cells[0][2]"
   ]
  }
 ],
 "metadata": {
  "kernelspec": {
   "display_name": "thesis",
   "language": "python",
   "name": "python3"
  },
  "language_info": {
   "codemirror_mode": {
    "name": "ipython",
    "version": 3
   },
   "file_extension": ".py",
   "mimetype": "text/x-python",
   "name": "python",
   "nbconvert_exporter": "python",
   "pygments_lexer": "ipython3",
   "version": "3.12.0"
  }
 },
 "nbformat": 4,
 "nbformat_minor": 2
}

{
 "cells": [
  {
   "cell_type": "code",
   "execution_count": 2,
   "metadata": {},
   "outputs": [],
   "source": [
    "import h5py\n",
    "import numpy as np\n",
    "\n"
   ]
  },
  {
   "cell_type": "markdown",
   "metadata": {},
   "source": [
    "5K"
   ]
  },
  {
   "cell_type": "code",
   "execution_count": 32,
   "metadata": {},
   "outputs": [],
   "source": [
    "with h5py.File(\"runs/even_better_2.hdf5\", \"r\") as f:\n",
    "    attrs = dict(f.attrs)\n",
    "    cells = np.array(f[\"cells\"])\n",
    "    cell_properties = np.array(f[\"properties\"])\n",
    "\n",
    "\n",
    "xx = cells[-1][:,0,:][:,0]\n",
    "yy = cells[-1][:,0,:][:,1]\n",
    "zz = cells[-1][:,0,:][:,2]\n",
    "\n",
    "xx = (xx - xx.min())/(xx.max() - xx.min())*100\n",
    "yy = (yy - yy.min())/(yy.max() - yy.min())*100\n",
    "zz = (zz - zz.min())/(zz.max() - zz.min())*100\n",
    "\n",
    "# remove the places where the cells are above a certain height\n",
    "\n",
    "# # print(zz.min(),zz.max())\n",
    "# prop2 = np.where((zz < 5.), 0., 1.)\n",
    "# prop2 = np.where(xx < -30, 1., prop2)\n",
    "\n",
    "# prop2 = cell_properties\n",
    "prop2 = np.zeros(cell_properties.shape)\n",
    "# # cells[:,:,2] = np.array([0.,-1.,0.])\n",
    "\n",
    "# # # print(cells[-1,:,2])\n",
    "# prop2[(zz < -10)] = 0.0 # green \n",
    "\n",
    "\n",
    "# make stripes\n",
    "\n",
    "width = 4\n",
    "dist = 12\n",
    "\n",
    "for i in range(2):   #7\n",
    "    xlow = 40 + i*dist\n",
    "    xhigh = xlow + width\n",
    "\n",
    "    prop2[(xx > xlow)*(xx < xhigh)*(zz > 40)] = 4.0 # light blue back stripe\n",
    "\n",
    "\n",
    "\n",
    "\n",
    "prop2[(xx > 30)*(xx < 90)*(yy > 8)*(yy < 92)*(zz < 40)] = 1.0 # red\n",
    "# prop2[(zz < -5)*(xx > -20)*(yy < 10)*(yy > -10)] = 0.0 # green \n",
    "\n",
    "prop2[(yy < 62)*(yy > 38)*(xx > 20)*(xx < 95)*(zz < 44)] = 2.0 # dark blue\n",
    "\n",
    "y_dis = 25\n",
    "\n",
    "prop2[(xx > 88)*(xx < 95)*(zz > 60)*(yy < (50+y_dis))*(yy > (50-y_dis))] = 4.0 # light blue tip\n",
    "\n",
    "\n",
    "\n",
    "\n",
    "\n",
    "# prop2[(xx > 56)*(xx < 57)*(zz > 40)] = 4.0 # smaller blue front stripe\n",
    "\n",
    "# prop2[(xx > 63)*(xx < 64)*(zz > 40)] = 4.0 # smaller blue front stripe\n",
    "\n",
    "\n",
    "\n",
    "with h5py.File(\"runs/tip_top_two.hdf5\", \"w\") as f:\n",
    "    # del f[\"properties\"]\n",
    "    # del f[\"cells\"]\n",
    "    f.create_dataset(\"cells\", data=cells)\n",
    "    f.create_dataset(\"properties\", data=prop2)\n",
    "    f.attrs.update(attrs)\n",
    "\n",
    "# # # # print(cell_properties)"
   ]
  },
  {
   "cell_type": "code",
   "execution_count": null,
   "metadata": {},
   "outputs": [
    {
     "data": {
      "text/plain": [
       "(-41.15203, 41.19128)"
      ]
     },
     "execution_count": 38,
     "metadata": {},
     "output_type": "execute_result"
    }
   ],
   "source": []
  },
  {
   "cell_type": "markdown",
   "metadata": {},
   "source": [
    "2k"
   ]
  },
  {
   "cell_type": "code",
   "execution_count": null,
   "metadata": {},
   "outputs": [
    {
     "name": "stdout",
     "output_type": "stream",
     "text": [
      "-41.15203 41.19128\n",
      "-13.818704 13.808205\n",
      "-13.814333 13.825282\n"
     ]
    }
   ],
   "source": [
    "with h5py.File(\"runs/timeline.hdf5\", \"r\") as f:\n",
    "    attrs = dict(f.attrs)\n",
    "    cells = np.array(f[\"cells\"])\n",
    "    cell_properties = np.array(f[\"properties\"])\n",
    "\n",
    "\n",
    "xx = cells[-1][:,0,:][:,0]\n",
    "yy = cells[-1][:,0,:][:,1]\n",
    "zz = cells[-1][:,0,:][:,2]\n",
    "\n",
    "\n",
    "print(xx.min(), xx.max())\n",
    "print(yy.min(), yy.max())\n",
    "print(zz.min(), zz.max())\n"
   ]
  },
  {
   "cell_type": "code",
   "execution_count": null,
   "metadata": {},
   "outputs": [],
   "source": [
    "\n",
    "# remove the places where the cells are above a certain height\n",
    "\n",
    "# # print(zz.min(),zz.max())\n",
    "# prop2 = np.where((zz < 5.), 0., 1.)\n",
    "# prop2 = np.where(xx < -30, 1., prop2)\n",
    "\n",
    "# prop2 = cell_properties\n",
    "prop2 = np.zeros(cell_properties.shape)\n",
    "# # cells[:,:,2] = np.array([0.,-1.,0.])\n",
    "\n",
    "# # # print(cells[-1,:,2])\n",
    "\n",
    "\n",
    "prop2[(yy < 3)*(yy > -3)*(zz < -7)] = 2.0 # dark blue\n",
    "\n",
    "prop2[(xx > 24)*(zz>0)] = 4.0 # light blue tip \n",
    "\n",
    "prop2[(xx > -5)*(xx< 0)*(zz > 0)] = 4.0 # light blue back stripe\n",
    "\n",
    "prop2[(xx > 10)*(xx < 15)*(zz > 0)] = 4.0 # light blue front stripe\n",
    "\n",
    "\n",
    "# prop2[(xx > 40)*(yy < 10)*(yy > -10)*(zz > 3)] = 4.0 # light blue\n",
    "\n",
    "\n",
    "\n",
    "with h5py.File(\"runs/small_timeline.hdf5\", \"w\") as f:\n",
    "    # del f[\"properties\"]\n",
    "    # del f[\"cells\"]\n",
    "    f.create_dataset(\"cells\", data=cells)\n",
    "    f.create_dataset(\"properties\", data=prop2)\n",
    "    f.attrs.update(attrs)\n"
   ]
  },
  {
   "cell_type": "code",
   "execution_count": null,
   "metadata": {},
   "outputs": [],
   "source": []
  }
 ],
 "metadata": {
  "kernelspec": {
   "display_name": "thesis",
   "language": "python",
   "name": "python3"
  },
  "language_info": {
   "codemirror_mode": {
    "name": "ipython",
    "version": 3
   },
   "file_extension": ".py",
   "mimetype": "text/x-python",
   "name": "python",
   "nbconvert_exporter": "python",
   "pygments_lexer": "ipython3",
   "version": "3.12.0"
  }
 },
 "nbformat": 4,
 "nbformat_minor": 2
}

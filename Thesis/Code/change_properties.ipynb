{
 "cells": [
  {
   "cell_type": "code",
   "execution_count": 1,
   "metadata": {},
   "outputs": [],
   "source": [
    "import h5py\n",
    "import numpy as np\n",
    "\n"
   ]
  },
  {
   "cell_type": "code",
   "execution_count": 67,
   "metadata": {},
   "outputs": [],
   "source": [
    "with h5py.File(\"runs/genius_base.hdf5\", \"r\") as f:\n",
    "    attrs = dict(f.attrs)\n",
    "    cells = np.array(f[\"cells\"])\n",
    "    cell_properties = np.array(f[\"properties\"])\n",
    "\n",
    "\n",
    "xx = cells[-1][:,0,:][:,0]\n",
    "yy = cells[-1][:,0,:][:,1]\n",
    "zz = cells[-1][:,0,:][:,2]\n",
    "\n",
    "# # print(zz.min(),zz.max())\n",
    "# prop2 = np.where((zz < 5.), 0., 1.)\n",
    "# prop2 = np.where(xx < -30, 1., prop2)\n",
    "\n",
    "prop2 = cell_properties\n",
    "# # cells[:,:,2] = np.array([0.,-1.,0.])\n",
    "\n",
    "# # # print(cells[-1,:,2])\n",
    "prop2[(yy < 10)*(yy > -10)*(zz < 0.)] = 3.0\n",
    "prop2[(yy < 4.5)*(yy > -4.5)*(zz < 0.)] = 0.0\n",
    "prop2[(yy < 3)*(yy > -3)*(zz < 0.)] = 2.0\n",
    "\n",
    "prop2[(xx > 37)] = 4.0\n",
    "\n",
    "\n",
    "\n",
    "with h5py.File(\"runs/timeline.hdf5\", \"a\") as f:\n",
    "    del f[\"properties\"]\n",
    "    del f[\"cells\"]\n",
    "    f.create_dataset(\"cells\", data=cells)\n",
    "    f.create_dataset(\"properties\", data=prop2)\n",
    "    f.attrs.update(attrs)\n",
    "\n",
    "# # # # print(cell_properties)"
   ]
  },
  {
   "cell_type": "code",
   "execution_count": 38,
   "metadata": {},
   "outputs": [
    {
     "data": {
      "text/plain": [
       "(-41.15203, 41.19128)"
      ]
     },
     "execution_count": 38,
     "metadata": {},
     "output_type": "execute_result"
    }
   ],
   "source": [
    "xx.min(), xx.max()"
   ]
  }
 ],
 "metadata": {
  "kernelspec": {
   "display_name": "thesis",
   "language": "python",
   "name": "python3"
  },
  "language_info": {
   "codemirror_mode": {
    "name": "ipython",
    "version": 3
   },
   "file_extension": ".py",
   "mimetype": "text/x-python",
   "name": "python",
   "nbconvert_exporter": "python",
   "pygments_lexer": "ipython3",
   "version": "3.12.0"
  }
 },
 "nbformat": 4,
 "nbformat_minor": 2
}

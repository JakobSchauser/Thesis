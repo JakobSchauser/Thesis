{
 "cells": [
  {
   "cell_type": "code",
   "execution_count": 1,
   "metadata": {},
   "outputs": [],
   "source": [
    "import numpy as np\n",
    "import h5py"
   ]
  },
  {
   "cell_type": "code",
   "execution_count": 6,
   "metadata": {},
   "outputs": [],
   "source": [
    "# import the data\n",
    "with h5py.File(\"runs/onetest_l3_05.hdf5\", \"r\") as f:\n",
    "    attrs = dict(f.attrs)\n",
    "    cells = np.array(f[\"cells\"])\n",
    "    cell_properties = np.array(f[\"properties\"])\n"
   ]
  },
  {
   "cell_type": "code",
   "execution_count": 7,
   "metadata": {},
   "outputs": [],
   "source": [
    "# 3d plot the first positions\n",
    "import matplotlib.pyplot as plt\n",
    "from mpl_toolkits.mplot3d import Axes3D\n",
    "\n",
    "\n",
    "def plot_change(first_positions, last_positions):\n",
    "\n",
    "    change = last_positions - first_positions\n",
    "    fig = plt.figure()\n",
    "    ax = fig.add_subplot(111, projection=\"3d\")\n",
    "    # make the 3 axes equal\n",
    "    ax.set_box_aspect([1,1,1])\n",
    "\n",
    "\n",
    "    # ax.scatter(first_positions[:, 0], first_positions[:, 1], first_positions[:, 2], c=\"r\", alpha=0.5)\n",
    "\n",
    "    # draw the change as quivers\n",
    "    # find the max change\n",
    "    changes = np.linalg.norm(change, axis=1)\n",
    "    max_change = np.max(changes)\n",
    "\n",
    "    for i in range(len(first_positions)):\n",
    "\n",
    "        if first_positions[i][2] > 0:\n",
    "            continue\n",
    "        # draw the quiver blue with white outline\n",
    "\n",
    "\n",
    "        lw = max(( changes[i]) / 20, 0.4)\n",
    "\n",
    "        p = abs(change[i,2])/(abs(change[i,0])+abs(change[i,1])+abs(change[i,2]))\n",
    "\n",
    "        color = (0., p, 1-p, 1.)\n",
    "\n",
    "        # make big heads\n",
    "        ax.quiver(first_positions[i, 0], first_positions[i, 1], first_positions[i, 2], change[i, 0], change[i, 1], change[i, 2], color= color,  linewidth=lw, arrow_length_ratio=0.2, )\n",
    "\n",
    "    # make the three axes extends equal\n",
    "    ax.set_xlim(-50, 50)\n",
    "    ax.set_ylim(-50, 50)\n",
    "    ax.set_zlim(-50, 50)\n",
    "\n",
    "    ax.set_xlabel(\"X\")\n",
    "    ax.set_ylabel(\"Y\")\n",
    "    ax.set_zlabel(\"Z\")\n",
    "\n",
    "    # remove the grid\n",
    "    ax.grid(False)\n",
    "    # make the background white\n",
    "    ax.set_facecolor(\"w\")\n",
    "    # remove the ticks\n",
    "    ax.set_xticks([])\n",
    "    ax.set_yticks([])\n",
    "    ax.set_zticks([])\n",
    "\n",
    "    # remove the axes\n",
    "    ax.set_axis_off()\n",
    "\n",
    "\n",
    "    # tight layout\n",
    "    plt.tight_layout()\n",
    "\n",
    "    # show the plot\n",
    "\n",
    "\n",
    "\n",
    "    plt.show()"
   ]
  },
  {
   "cell_type": "code",
   "execution_count": 4,
   "metadata": {},
   "outputs": [
    {
     "ename": "NameError",
     "evalue": "name 'positions' is not defined",
     "output_type": "error",
     "traceback": [
      "\u001b[1;31m---------------------------------------------------------------------------\u001b[0m",
      "\u001b[1;31mNameError\u001b[0m                                 Traceback (most recent call last)",
      "Cell \u001b[1;32mIn[4], line 1\u001b[0m\n\u001b[1;32m----> 1\u001b[0m \u001b[38;5;28mlen\u001b[39m(\u001b[43mpositions\u001b[49m)\n",
      "\u001b[1;31mNameError\u001b[0m: name 'positions' is not defined"
     ]
    }
   ],
   "source": [
    "len(positions)"
   ]
  },
  {
   "cell_type": "code",
   "execution_count": 8,
   "metadata": {},
   "outputs": [],
   "source": [
    "    # make the plot interactive\n",
    "%matplotlib qt\n",
    "\n",
    "positions = cells[:, :, 0, :3]\n",
    "\n",
    "\n",
    "\n",
    "\n",
    "first_positions = positions[0]\n",
    "last_positions = positions[-1]\n",
    "\n",
    "plot_change(first_positions, last_positions)"
   ]
  },
  {
   "cell_type": "code",
   "execution_count": null,
   "metadata": {},
   "outputs": [],
   "source": []
  }
 ],
 "metadata": {
  "kernelspec": {
   "display_name": "thesis",
   "language": "python",
   "name": "python3"
  },
  "language_info": {
   "codemirror_mode": {
    "name": "ipython",
    "version": 3
   },
   "file_extension": ".py",
   "mimetype": "text/x-python",
   "name": "python",
   "nbconvert_exporter": "python",
   "pygments_lexer": "ipython3",
   "version": "3.12.0"
  }
 },
 "nbformat": 4,
 "nbformat_minor": 2
}

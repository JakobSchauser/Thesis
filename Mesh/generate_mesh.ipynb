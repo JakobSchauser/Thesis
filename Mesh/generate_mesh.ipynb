{
 "cells": [
  {
   "cell_type": "code",
   "execution_count": 5,
   "metadata": {},
   "outputs": [],
   "source": [
    "import numpy as np\n",
    "import h5py\n",
    "\n",
    "\n",
    "with h5py.File('../CodePass2/runs/final.hdf5', 'r') as f:\n",
    "    sim = np.array(f['x'])\n",
    "\n",
    "lst_frame = sim[-1]\n",
    "\n",
    "#save as csv\n",
    "# np.savetxt(\"poss.csv\", lst_frame, delimiter = \",\")"
   ]
  },
  {
   "cell_type": "code",
   "execution_count": 8,
   "metadata": {},
   "outputs": [
    {
     "data": {
      "text/plain": [
       "52.49445"
      ]
     },
     "execution_count": 8,
     "metadata": {},
     "output_type": "execute_result"
    }
   ],
   "source": [
    "lst_frame[:,0].max()"
   ]
  },
  {
   "cell_type": "code",
   "execution_count": 4,
   "metadata": {},
   "outputs": [
    {
     "name": "stdout",
     "output_type": "stream",
     "text": [
      "minimum distance between points: 1.4514046\n"
     ]
    }
   ],
   "source": [
    "# find minimum 3d distance between points:\n",
    "points = sim[0]\n",
    "\n",
    "min_dist = np.inf\n",
    "for i in range(len(points)):\n",
    "    for j in range(i+1, len(points)):\n",
    "        dist = np.linalg.norm(points[i] - points[j])\n",
    "        if dist < min_dist:\n",
    "            min_dist = dist\n",
    "\n",
    "print('minimum distance between points:', min_dist)"
   ]
  },
  {
   "cell_type": "code",
   "execution_count": null,
   "metadata": {},
   "outputs": [],
   "source": [
    "import Part\n",
    "import numpy as np\n",
    "\n",
    "doc = FreeCAD.newDocument()\n",
    "poss = np.genfromtxt(\"C:/Users/jakob/Documents/Thesis/Mesh/poss.csv\", delimiter=\",\")\n",
    "spheres = []\n",
    "for i, pos in enumerate(poss):\n",
    "    p = FreeCAD.Vector(pos)\n",
    "\n",
    "    sphere = Part.makeSphere(2, p)\n",
    "\n",
    "    spheres.append(sphere)\n",
    "    \n"
   ]
  },
  {
   "cell_type": "code",
   "execution_count": null,
   "metadata": {},
   "outputs": [],
   "source": [
    "fuses = []\n",
    "chunk = int(len(spheres)/50)\n",
    "for i in range(50):\n",
    "    fuse = spheres[i*chunk]\n",
    "    fuse = fuse.fuse(spheres[i*chunk+1:(i+1)*chunk])\n",
    "    fuses.append(fuse)"
   ]
  },
  {
   "cell_type": "code",
   "execution_count": null,
   "metadata": {},
   "outputs": [],
   "source": [
    "metafuses = []\n",
    "chunk = int(len(fuses)/10)\n",
    "for i in range(10):\n",
    "    metafuse = fuses[i*chunk]\n",
    "    metafuse = metafuse.fuse(fuses[i*chunk+1:(i+1)*chunk])\n",
    "    metafuses.append(metafuse)"
   ]
  },
  {
   "cell_type": "code",
   "execution_count": null,
   "metadata": {},
   "outputs": [],
   "source": [
    "metametafuses = []\n",
    "chunk = int(len(metafuses)/5)\n",
    "for i in range(5):\n",
    "    metametafuse = metafuses[i*chunk]\n",
    "    metametafuse = metametafuse.fuse(metafuses[i*chunk+1:(i+1)*chunk])\n",
    "    metametafuses.append(metametafuse)"
   ]
  },
  {
   "cell_type": "code",
   "execution_count": null,
   "metadata": {},
   "outputs": [],
   "source": [
    "finalfuse = metametafuses[0].fuse(metametafuses[1:])"
   ]
  },
  {
   "cell_type": "code",
   "execution_count": null,
   "metadata": {},
   "outputs": [],
   "source": [
    "fuse = fuses[0]\n",
    "for f in fuses[1:]:\n",
    "    fuse = fuse.fuse(f)"
   ]
  },
  {
   "cell_type": "code",
   "execution_count": null,
   "metadata": {},
   "outputs": [],
   "source": [
    "Part.show(fuse)\n"
   ]
  }
 ],
 "metadata": {
  "kernelspec": {
   "display_name": "base",
   "language": "python",
   "name": "python3"
  },
  "language_info": {
   "codemirror_mode": {
    "name": "ipython",
    "version": 3
   },
   "file_extension": ".py",
   "mimetype": "text/x-python",
   "name": "python",
   "nbconvert_exporter": "python",
   "pygments_lexer": "ipython3",
   "version": "3.11.5"
  }
 },
 "nbformat": 4,
 "nbformat_minor": 2
}

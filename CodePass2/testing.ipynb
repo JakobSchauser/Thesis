{
 "cells": [
  {
   "cell_type": "code",
   "execution_count": 2,
   "metadata": {},
   "outputs": [],
   "source": [
    "import h5py\n",
    "import numpy as np"
   ]
  },
  {
   "cell_type": "code",
   "execution_count": 4,
   "metadata": {},
   "outputs": [],
   "source": [
    "with h5py.File(\"runs/teresa_3_pressure.hdf5\", \"r\") as f:\n",
    "    attrs = dict(f.attrs)\n",
    "    cells = np.array(f[\"cells\"])\n",
    "    cell_properties = np.array(f[\"properties\"])\n",
    "\n",
    "\n",
    "poss = cells[:,:,0,:]\n",
    "\n",
    "\n",
    "xx = poss[-1][:,0]\n",
    "yy = poss[-1][:,1]\n",
    "zz = poss[-1][:,2]\n",
    "\n",
    "xx = (xx - xx.min())/(xx.max() - xx.min())*100\n",
    "yy = (yy - yy.min())/(yy.max() - yy.min())*100\n",
    "zz = (zz - zz.min())/(zz.max() - zz.min())*100\n",
    "\n",
    "\n",
    "\n",
    "\n",
    "prop2 = np.zeros(cell_properties.shape)\n",
    "\n",
    "width = 6\n",
    "dist = 17\n",
    "\n",
    "for i in range(2):   #7\n",
    "    xlow = 40 + i*dist\n",
    "    xhigh = xlow + width\n",
    "\n",
    "    prop2[(xx > xlow)*(xx < xhigh)*(zz > 40)] = 4.0 # light blue back stripe\n",
    "\n",
    "\n",
    "prop2[(xx > 30)*(xx < 101)*(yy > 20)*(yy < 100-20)*(zz < 45)] = 1.0 # red\n",
    "\n",
    "\n",
    "prop2[(yy < 65)*(yy > 35)*(xx > 20)*(xx < 95)*(zz < 44)] = 2.0 # dark blue\n",
    "\n",
    "y_dis = 30\n",
    "\n",
    "prop2[(xx > 85)*(xx < 95)*(zz > 60)*(yy < (50+y_dis))*(yy > (50-y_dis))] = 4.0 # light blue tip \n",
    "\n",
    "\n",
    "properties = prop2\n",
    "\n",
    "\n",
    "p = cells[:,:,1,:]\n",
    "q = cells[:,:,2,:]\n",
    "\n",
    "\n",
    "with h5py.File(\"runs/second_new_egg.hdf5\", \"w\") as f:\n",
    "    create = lambda name, data: f.create_dataset(name, data=data)\n",
    "\n",
    "    create(\"x\", poss)\n",
    "\n",
    "    create(\"properties\", [properties])\n",
    "\n",
    "    create(\"p\", p)\n",
    "\n",
    "    create(\"q\", q)\n",
    "\n",
    "    f.attrs.update(attrs)\n"
   ]
  }
 ],
 "metadata": {
  "kernelspec": {
   "display_name": "reworked",
   "language": "python",
   "name": "python3"
  },
  "language_info": {
   "codemirror_mode": {
    "name": "ipython",
    "version": 3
   },
   "file_extension": ".py",
   "mimetype": "text/x-python",
   "name": "python",
   "nbconvert_exporter": "python",
   "pygments_lexer": "ipython3",
   "version": "3.9.18"
  }
 },
 "nbformat": 4,
 "nbformat_minor": 2
}

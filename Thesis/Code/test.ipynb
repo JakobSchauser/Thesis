{
 "cells": [
  {
   "cell_type": "code",
   "execution_count": 2,
   "metadata": {},
   "outputs": [],
   "source": [
    "import numpy as np\n",
    "import matplotlib.pyplot as plt"
   ]
  },
  {
   "cell_type": "code",
   "execution_count": 120,
   "metadata": {},
   "outputs": [
    {
     "name": "stdout",
     "output_type": "stream",
     "text": [
      "2\n",
      "3\n",
      "4\n",
      "5\n",
      "6\n",
      "7\n",
      "8\n",
      "9\n"
     ]
    }
   ],
   "source": [
    "p = 0.6\n",
    "\n",
    "ks = list(range(2,10))\n",
    "N = 10000\n",
    "rights = np.zeros(len(ks))\n",
    "lefts = np.zeros(len(ks))\n",
    "\n",
    "for i, k in enumerate(ks):\n",
    "    print(k)\n",
    "    for run in range(N):\n",
    "        walk = ((np.random.random((10000)) > p)*2 - 1).cumsum().astype(int)+1\n",
    "        if k in walk and 0 in walk:\n",
    "            if (np.where(walk == k)[0][0] < np.where(walk == 0)[0][0]):\n",
    "                rights[i] += 1\n",
    "            else:\n",
    "                lefts[i] += 1\n",
    "        else:\n",
    "            if k in walk:\n",
    "                rights[i] += 1\n",
    "            else:\n",
    "                lefts[i] += 1"
   ]
  },
  {
   "cell_type": "code",
   "execution_count": 111,
   "metadata": {},
   "outputs": [
    {
     "data": {
      "text/plain": [
       "array([4514., 2649., 1800., 1320.,  959.,  745.,  538.,  398.])"
      ]
     },
     "execution_count": 111,
     "metadata": {},
     "output_type": "execute_result"
    }
   ],
   "source": [
    "rights"
   ]
  },
  {
   "cell_type": "code",
   "execution_count": 119,
   "metadata": {},
   "outputs": [
    {
     "data": {
      "image/png": "[encoded data removed]",
      "text/plain": [
       "<Figure size 640x480 with 1 Axes>"
      ]
     },
     "metadata": {},
     "output_type": "display_data"
    }
   ],
   "source": [
    "@np.vectorize\n",
    "def f(p, k):\n",
    "    return (1/(1/(1-p) - p))**(k-2)*(1-p)\n",
    "\n",
    "\n",
    "plt.plot(ks, rights/N, '.', label=\"Nåede k\")\n",
    "plt.plot(ks, f(p, ks), label=\"Analytical\")\n",
    "plt.legend()\n",
    "plt.show()"
   ]
  },
  {
   "cell_type": "code",
   "execution_count": 4,
   "metadata": {},
   "outputs": [
    {
     "data": {
      "text/plain": [
       "1.0"
      ]
     },
     "execution_count": 4,
     "metadata": {},
     "output_type": "execute_result"
    }
   ],
   "source": [
    "(np.load(\"runs/2000_sphere_properties.npy\") == 1).mean()"
   ]
  },
  {
   "cell_type": "code",
   "execution_count": 8,
   "metadata": {},
   "outputs": [
    {
     "data": {
      "text/plain": [
       "12.735267596740327"
      ]
     },
     "execution_count": 8,
     "metadata": {},
     "output_type": "execute_result"
    }
   ],
   "source": [
    "b = 3\n",
    "p = 1.6075\n",
    "N = 2000\n",
    "beta = 5\n",
    "np.sqrt(1/((2+1/b**p)/3)**(1/p) *(N)*beta/(2*b*4*np.pi))"
   ]
  },
  {
   "cell_type": "code",
   "execution_count": 2,
   "metadata": {},
   "outputs": [],
   "source": [
    "import numpy as np"
   ]
  },
  {
   "cell_type": "code",
   "execution_count": 19,
   "metadata": {},
   "outputs": [],
   "source": [
    "prop = np.load(\"runs/2000_better_egg_genius_moremore_properties.npy\")\n",
    "poss = np.load(\"runs/2000_better_egg_genius_moremore.npy\")[-1][:,0]"
   ]
  },
  {
   "cell_type": "code",
   "execution_count": 9,
   "metadata": {},
   "outputs": [],
   "source": [
    "from InitialConditions import egg_shape"
   ]
  },
  {
   "cell_type": "code",
   "execution_count": 20,
   "metadata": {},
   "outputs": [
    {
     "data": {
      "text/plain": [
       "(2000, 3)"
      ]
     },
     "execution_count": 20,
     "metadata": {},
     "output_type": "execute_result"
    }
   ],
   "source": [
    "poss.shape"
   ]
  },
  {
   "cell_type": "code",
   "execution_count": 25,
   "metadata": {},
   "outputs": [],
   "source": [
    "import h5py\n",
    "import numpy as np"
   ]
  },
  {
   "cell_type": "code",
   "execution_count": 59,
   "metadata": {},
   "outputs": [],
   "source": [
    "testarr1 = np.array([1,2,3,4,5])\n",
    "testarr2 = np.ones((5,5)).astype(float)\n",
    "\n",
    "\n",
    "from jax_enums import Enumerable\n",
    "class BC(Enumerable):\n",
    "    NONE = 0\n",
    "    SPHERE = 1\n",
    "    EGG = 2\n",
    "    BETTER_EGG = 3\n",
    "\n",
    "test_attributes = {\"len\": 5, \"name\": \"test\", \"enum\" : BC.BETTER_EGG}\n"
   ]
  },
  {
   "cell_type": "code",
   "execution_count": 60,
   "metadata": {},
   "outputs": [
    {
     "ename": "TypeError",
     "evalue": "Object dtype dtype('O') has no native HDF5 equivalent",
     "output_type": "error",
     "traceback": [
      "\u001b[1;31m---------------------------------------------------------------------------\u001b[0m",
      "\u001b[1;31mTypeError\u001b[0m                                 Traceback (most recent call last)",
      "Cell \u001b[1;32mIn[60], line 4\u001b[0m\n\u001b[0;32m      2\u001b[0m f\u001b[38;5;241m.\u001b[39mcreate_dataset(\u001b[38;5;124m\"\u001b[39m\u001b[38;5;124mtest1\u001b[39m\u001b[38;5;124m\"\u001b[39m, data\u001b[38;5;241m=\u001b[39mtestarr1)\n\u001b[0;32m      3\u001b[0m f\u001b[38;5;241m.\u001b[39mcreate_dataset(\u001b[38;5;124m\"\u001b[39m\u001b[38;5;124mtest2\u001b[39m\u001b[38;5;124m\"\u001b[39m, data\u001b[38;5;241m=\u001b[39mtestarr2)\n\u001b[1;32m----> 4\u001b[0m \u001b[43mf\u001b[49m\u001b[38;5;241;43m.\u001b[39;49m\u001b[43mattrs\u001b[49m\u001b[38;5;241;43m.\u001b[39;49m\u001b[43mupdate\u001b[49m\u001b[43m(\u001b[49m\u001b[43mtest_attributes\u001b[49m\u001b[43m)\u001b[49m\n",
      "File \u001b[1;32m<frozen _collections_abc>:982\u001b[0m, in \u001b[0;36mupdate\u001b[1;34m(self, other, **kwds)\u001b[0m\n",
      "File \u001b[1;32mh5py\\_objects.pyx:54\u001b[0m, in \u001b[0;36mh5py._objects.with_phil.wrapper\u001b[1;34m()\u001b[0m\n",
      "File \u001b[1;32mh5py\\_objects.pyx:55\u001b[0m, in \u001b[0;36mh5py._objects.with_phil.wrapper\u001b[1;34m()\u001b[0m\n",
      "File \u001b[1;32mc:\\Users\\jakob\\miniconda3\\envs\\thesis\\Lib\\site-packages\\h5py\\_hl\\attrs.py:104\u001b[0m, in \u001b[0;36mAttributeManager.__setitem__\u001b[1;34m(self, name, value)\u001b[0m\n\u001b[0;32m     96\u001b[0m \u001b[38;5;129m@with_phil\u001b[39m\n\u001b[0;32m     97\u001b[0m \u001b[38;5;28;01mdef\u001b[39;00m \u001b[38;5;21m__setitem__\u001b[39m(\u001b[38;5;28mself\u001b[39m, name, value):\n\u001b[0;32m     98\u001b[0m \u001b[38;5;250m    \u001b[39m\u001b[38;5;124;03m\"\"\" Set a new attribute, overwriting any existing attribute.\u001b[39;00m\n\u001b[0;32m     99\u001b[0m \n\u001b[0;32m    100\u001b[0m \u001b[38;5;124;03m    The type and shape of the attribute are determined from the data.  To\u001b[39;00m\n\u001b[0;32m    101\u001b[0m \u001b[38;5;124;03m    use a specific type or shape, or to preserve the type of an attribute,\u001b[39;00m\n\u001b[0;32m    102\u001b[0m \u001b[38;5;124;03m    use the methods create() and modify().\u001b[39;00m\n\u001b[0;32m    103\u001b[0m \u001b[38;5;124;03m    \"\"\"\u001b[39;00m\n\u001b[1;32m--> 104\u001b[0m     \u001b[38;5;28;43mself\u001b[39;49m\u001b[38;5;241;43m.\u001b[39;49m\u001b[43mcreate\u001b[49m\u001b[43m(\u001b[49m\u001b[43mname\u001b[49m\u001b[43m,\u001b[49m\u001b[43m \u001b[49m\u001b[43mdata\u001b[49m\u001b[38;5;241;43m=\u001b[39;49m\u001b[43mvalue\u001b[49m\u001b[43m)\u001b[49m\n",
      "File \u001b[1;32mc:\\Users\\jakob\\miniconda3\\envs\\thesis\\Lib\\site-packages\\h5py\\_hl\\attrs.py:182\u001b[0m, in \u001b[0;36mAttributeManager.create\u001b[1;34m(self, name, data, shape, dtype)\u001b[0m\n\u001b[0;32m    180\u001b[0m \u001b[38;5;66;03m# Make HDF5 datatype and dataspace for the H5A calls\u001b[39;00m\n\u001b[0;32m    181\u001b[0m \u001b[38;5;28;01mif\u001b[39;00m use_htype \u001b[38;5;129;01mis\u001b[39;00m \u001b[38;5;28;01mNone\u001b[39;00m:\n\u001b[1;32m--> 182\u001b[0m     htype \u001b[38;5;241m=\u001b[39m \u001b[43mh5t\u001b[49m\u001b[38;5;241;43m.\u001b[39;49m\u001b[43mpy_create\u001b[49m\u001b[43m(\u001b[49m\u001b[43moriginal_dtype\u001b[49m\u001b[43m,\u001b[49m\u001b[43m \u001b[49m\u001b[43mlogical\u001b[49m\u001b[38;5;241;43m=\u001b[39;49m\u001b[38;5;28;43;01mTrue\u001b[39;49;00m\u001b[43m)\u001b[49m\n\u001b[0;32m    183\u001b[0m     htype2 \u001b[38;5;241m=\u001b[39m h5t\u001b[38;5;241m.\u001b[39mpy_create(original_dtype)  \u001b[38;5;66;03m# Must be bit-for-bit representation rather than logical\u001b[39;00m\n\u001b[0;32m    184\u001b[0m \u001b[38;5;28;01melse\u001b[39;00m:\n",
      "File \u001b[1;32mh5py\\h5t.pyx:1664\u001b[0m, in \u001b[0;36mh5py.h5t.py_create\u001b[1;34m()\u001b[0m\n",
      "File \u001b[1;32mh5py\\h5t.pyx:1688\u001b[0m, in \u001b[0;36mh5py.h5t.py_create\u001b[1;34m()\u001b[0m\n",
      "File \u001b[1;32mh5py\\h5t.pyx:1748\u001b[0m, in \u001b[0;36mh5py.h5t.py_create\u001b[1;34m()\u001b[0m\n",
      "\u001b[1;31mTypeError\u001b[0m: Object dtype dtype('O') has no native HDF5 equivalent"
     ]
    }
   ],
   "source": [
    "with h5py.File(\"test_data.hdf5\", \"w\") as f:\n",
    "    f.create_dataset(\"test1\", data=testarr1)\n",
    "    f.create_dataset(\"test2\", data=testarr2)\n",
    "    f.attrs.update(test_attributes)\n",
    "\n"
   ]
  },
  {
   "cell_type": "code",
   "execution_count": 57,
   "metadata": {},
   "outputs": [
    {
     "name": "stdout",
     "output_type": "stream",
     "text": [
      "[1 2 3 4 5]\n",
      "[[1. 1. 1. 1. 1.]\n",
      " [1. 1. 1. 1. 1.]\n",
      " [1. 1. 1. 1. 1.]\n",
      " [1. 1. 1. 1. 1.]\n",
      " [1. 1. 1. 1. 1.]]\n",
      "{'len': 5, 'name': 'test'}\n"
     ]
    }
   ],
   "source": [
    "with h5py.File(\"test_data.hdf5\", \"r\") as f:\n",
    "    testarr1 = f[\"test1\"][:]\n",
    "    testarr2 = f[\"test2\"][:]\n",
    "    test_attributes = dict(f.attrs.items())\n",
    "\n",
    "print(testarr1)\n",
    "print(testarr2)\n",
    "print(test_attributes)"
   ]
  },
  {
   "cell_type": "code",
   "execution_count": 23,
   "metadata": {},
   "outputs": [],
   "source": [
    "# p2 = prop.copy()\n",
    "\n",
    "# cell_properties = jnp.where(cells[:,0,:][:,2] < egg_shape[2]/2, 0., 1.)\n",
    "p2 = np.where(poss[:,2] < egg_shape[2]/2, 0., 1.)\n",
    "# cell_properties = jnp.where(cells[:,0,:][:,0] < -egg_shape[0]/2, 1., cell_properties)\n",
    "p2 = np.where(poss[:,0] < -egg_shape[0]/2, 1., p2)\n",
    "\n",
    "\n",
    "# np.save(\"runs/2000_better_egg_more.npy\", poss)\n",
    "# np.save(\"runs/2000_better_egg_genius_moremore_properties.npy\", p2)"
   ]
  },
  {
   "cell_type": "code",
   "execution_count": 22,
   "metadata": {},
   "outputs": [
    {
     "name": "stdout",
     "output_type": "stream",
     "text": [
      "0.9605\n"
     ]
    }
   ],
   "source": [
    "print((p2==prop).mean())"
   ]
  }
 ],
 "metadata": {
  "kernelspec": {
   "display_name": "thesis",
   "language": "python",
   "name": "python3"
  },
  "language_info": {
   "codemirror_mode": {
    "name": "ipython",
    "version": 3
   },
   "file_extension": ".py",
   "mimetype": "text/x-python",
   "name": "python",
   "nbconvert_exporter": "python",
   "pygments_lexer": "ipython3",
   "version": "3.12.0"
  }
 },
 "nbformat": 4,
 "nbformat_minor": 2
}

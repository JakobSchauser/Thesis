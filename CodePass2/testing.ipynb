{
 "cells": [
  {
   "cell_type": "code",
   "execution_count": 1,
   "metadata": {},
   "outputs": [],
   "source": [
    "import h5py\n",
    "import numpy as np"
   ]
  },
  {
   "cell_type": "code",
   "execution_count": 2,
   "metadata": {},
   "outputs": [
    {
     "ename": "FileNotFoundError",
     "evalue": "[Errno 2] Unable to open file (unable to open file: name = 'runs/perfectionerer_more_agressa.hdf5', errno = 2, error message = 'No such file or directory', flags = 0, o_flags = 0)",
     "output_type": "error",
     "traceback": [
      "\u001b[1;31m---------------------------------------------------------------------------\u001b[0m",
      "\u001b[1;31mFileNotFoundError\u001b[0m                         Traceback (most recent call last)",
      "Cell \u001b[1;32mIn[2], line 1\u001b[0m\n\u001b[1;32m----> 1\u001b[0m \u001b[38;5;28;01mwith\u001b[39;00m \u001b[43mh5py\u001b[49m\u001b[38;5;241;43m.\u001b[39;49m\u001b[43mFile\u001b[49m\u001b[43m(\u001b[49m\u001b[38;5;124;43m\"\u001b[39;49m\u001b[38;5;124;43mruns/perfectionerer_more_agressa.hdf5\u001b[39;49m\u001b[38;5;124;43m\"\u001b[39;49m\u001b[43m,\u001b[49m\u001b[43m \u001b[49m\u001b[38;5;124;43m\"\u001b[39;49m\u001b[38;5;124;43mr\u001b[39;49m\u001b[38;5;124;43m\"\u001b[39;49m\u001b[43m)\u001b[49m \u001b[38;5;28;01mas\u001b[39;00m f:\n\u001b[0;32m      2\u001b[0m     \u001b[38;5;28mprint\u001b[39m(f\u001b[38;5;241m.\u001b[39mkeys())\n\u001b[0;32m      3\u001b[0m     \u001b[38;5;28mprint\u001b[39m(f[\u001b[38;5;124m\"\u001b[39m\u001b[38;5;124mproperties\u001b[39m\u001b[38;5;124m\"\u001b[39m])\n",
      "File \u001b[1;32mc:\\Users\\jakob\\miniconda3\\envs\\reworked\\lib\\site-packages\\h5py\\_hl\\files.py:567\u001b[0m, in \u001b[0;36mFile.__init__\u001b[1;34m(self, name, mode, driver, libver, userblock_size, swmr, rdcc_nslots, rdcc_nbytes, rdcc_w0, track_order, fs_strategy, fs_persist, fs_threshold, fs_page_size, page_buf_size, min_meta_keep, min_raw_keep, locking, alignment_threshold, alignment_interval, meta_block_size, **kwds)\u001b[0m\n\u001b[0;32m    558\u001b[0m     fapl \u001b[38;5;241m=\u001b[39m make_fapl(driver, libver, rdcc_nslots, rdcc_nbytes, rdcc_w0,\n\u001b[0;32m    559\u001b[0m                      locking, page_buf_size, min_meta_keep, min_raw_keep,\n\u001b[0;32m    560\u001b[0m                      alignment_threshold\u001b[38;5;241m=\u001b[39malignment_threshold,\n\u001b[0;32m    561\u001b[0m                      alignment_interval\u001b[38;5;241m=\u001b[39malignment_interval,\n\u001b[0;32m    562\u001b[0m                      meta_block_size\u001b[38;5;241m=\u001b[39mmeta_block_size,\n\u001b[0;32m    563\u001b[0m                      \u001b[38;5;241m*\u001b[39m\u001b[38;5;241m*\u001b[39mkwds)\n\u001b[0;32m    564\u001b[0m     fcpl \u001b[38;5;241m=\u001b[39m make_fcpl(track_order\u001b[38;5;241m=\u001b[39mtrack_order, fs_strategy\u001b[38;5;241m=\u001b[39mfs_strategy,\n\u001b[0;32m    565\u001b[0m                      fs_persist\u001b[38;5;241m=\u001b[39mfs_persist, fs_threshold\u001b[38;5;241m=\u001b[39mfs_threshold,\n\u001b[0;32m    566\u001b[0m                      fs_page_size\u001b[38;5;241m=\u001b[39mfs_page_size)\n\u001b[1;32m--> 567\u001b[0m     fid \u001b[38;5;241m=\u001b[39m \u001b[43mmake_fid\u001b[49m\u001b[43m(\u001b[49m\u001b[43mname\u001b[49m\u001b[43m,\u001b[49m\u001b[43m \u001b[49m\u001b[43mmode\u001b[49m\u001b[43m,\u001b[49m\u001b[43m \u001b[49m\u001b[43muserblock_size\u001b[49m\u001b[43m,\u001b[49m\u001b[43m \u001b[49m\u001b[43mfapl\u001b[49m\u001b[43m,\u001b[49m\u001b[43m \u001b[49m\u001b[43mfcpl\u001b[49m\u001b[43m,\u001b[49m\u001b[43m \u001b[49m\u001b[43mswmr\u001b[49m\u001b[38;5;241;43m=\u001b[39;49m\u001b[43mswmr\u001b[49m\u001b[43m)\u001b[49m\n\u001b[0;32m    569\u001b[0m \u001b[38;5;28;01mif\u001b[39;00m \u001b[38;5;28misinstance\u001b[39m(libver, \u001b[38;5;28mtuple\u001b[39m):\n\u001b[0;32m    570\u001b[0m     \u001b[38;5;28mself\u001b[39m\u001b[38;5;241m.\u001b[39m_libver \u001b[38;5;241m=\u001b[39m libver\n",
      "File \u001b[1;32mc:\\Users\\jakob\\miniconda3\\envs\\reworked\\lib\\site-packages\\h5py\\_hl\\files.py:231\u001b[0m, in \u001b[0;36mmake_fid\u001b[1;34m(name, mode, userblock_size, fapl, fcpl, swmr)\u001b[0m\n\u001b[0;32m    229\u001b[0m     \u001b[38;5;28;01mif\u001b[39;00m swmr \u001b[38;5;129;01mand\u001b[39;00m swmr_support:\n\u001b[0;32m    230\u001b[0m         flags \u001b[38;5;241m|\u001b[39m\u001b[38;5;241m=\u001b[39m h5f\u001b[38;5;241m.\u001b[39mACC_SWMR_READ\n\u001b[1;32m--> 231\u001b[0m     fid \u001b[38;5;241m=\u001b[39m \u001b[43mh5f\u001b[49m\u001b[38;5;241;43m.\u001b[39;49m\u001b[43mopen\u001b[49m\u001b[43m(\u001b[49m\u001b[43mname\u001b[49m\u001b[43m,\u001b[49m\u001b[43m \u001b[49m\u001b[43mflags\u001b[49m\u001b[43m,\u001b[49m\u001b[43m \u001b[49m\u001b[43mfapl\u001b[49m\u001b[38;5;241;43m=\u001b[39;49m\u001b[43mfapl\u001b[49m\u001b[43m)\u001b[49m\n\u001b[0;32m    232\u001b[0m \u001b[38;5;28;01melif\u001b[39;00m mode \u001b[38;5;241m==\u001b[39m \u001b[38;5;124m'\u001b[39m\u001b[38;5;124mr+\u001b[39m\u001b[38;5;124m'\u001b[39m:\n\u001b[0;32m    233\u001b[0m     fid \u001b[38;5;241m=\u001b[39m h5f\u001b[38;5;241m.\u001b[39mopen(name, h5f\u001b[38;5;241m.\u001b[39mACC_RDWR, fapl\u001b[38;5;241m=\u001b[39mfapl)\n",
      "File \u001b[1;32mh5py\\_objects.pyx:54\u001b[0m, in \u001b[0;36mh5py._objects.with_phil.wrapper\u001b[1;34m()\u001b[0m\n",
      "File \u001b[1;32mh5py\\_objects.pyx:55\u001b[0m, in \u001b[0;36mh5py._objects.with_phil.wrapper\u001b[1;34m()\u001b[0m\n",
      "File \u001b[1;32mh5py\\h5f.pyx:106\u001b[0m, in \u001b[0;36mh5py.h5f.open\u001b[1;34m()\u001b[0m\n",
      "\u001b[1;31mFileNotFoundError\u001b[0m: [Errno 2] Unable to open file (unable to open file: name = 'runs/perfectionerer_more_agressa.hdf5', errno = 2, error message = 'No such file or directory', flags = 0, o_flags = 0)"
     ]
    }
   ],
   "source": [
    "with h5py.File(\"runs/perfectionerer_more_agressa.hdf5\", \"r\") as f:\n",
    "    print(f.keys())\n",
    "    print(f[\"properties\"])\n",
    "    print(f[\"p\"])\n",
    "    print(f[\"q\"])\n",
    "    print(f[\"x\"][:])\n"
   ]
  },
  {
   "cell_type": "code",
   "execution_count": 3,
   "metadata": {},
   "outputs": [],
   "source": [
    "def angular_band(pos, angle, width, xx, zz):\n",
    "    return (pos-xx < angle*zz) * (pos + width - xx > angle*zz)\n",
    "\n",
    "def angular_bands_on_drosophila(pos, width, xx,zz):\n",
    "    angle = (pos/100.0 - 0.5)/3.\n",
    "    return angular_band(pos, angle, width, xx, zz)"
   ]
  },
  {
   "cell_type": "code",
   "execution_count": 6,
   "metadata": {},
   "outputs": [
    {
     "name": "stdout",
     "output_type": "stream",
     "text": [
      "-79.91615 59.94943\n",
      "-26.649378 26.66619\n",
      "-26.649714 26.656801\n"
     ]
    }
   ],
   "source": [
    "with h5py.File(\"runs/tenth_egg.hdf5\", \"r\") as f:\n",
    "    attrs = dict(f.attrs)\n",
    "    poss = np.array(f[\"x\"])\n",
    "    cell_properties = np.array(f[\"properties\"][0])\n",
    "    p = np.array(f[\"p\"])\n",
    "    q = np.array(f[\"q\"])\n",
    "\n",
    "\n",
    "\n",
    "\n",
    "xx = poss[-1][:,0]\n",
    "yy = poss[-1][:,1]\n",
    "zz = poss[-1][:,2]\n",
    "\n",
    "print(xx.min(), xx.max())\n",
    "print(yy.min(), yy.max())\n",
    "print(zz.min(), zz.max())\n",
    "\n",
    "xx = (xx - xx.min())/(xx.max() - xx.min())*100\n",
    "yy = (yy - yy.min())/(yy.max() - yy.min())*100\n",
    "zz = (zz - zz.min())/(zz.max() - zz.min())*100\n",
    "\n",
    "AB = lambda pos, width: angular_bands_on_drosophila(pos, width, xx, zz)\n",
    "\n",
    "prop2 = np.zeros(cell_properties.shape)\n",
    "\n",
    "\n",
    "\n",
    "\n",
    "width = 2.5\n",
    "dist = 25\n",
    "\n",
    "prop2[(xx > 30)*(xx < 101)*(zz < 40)] = 1.0 # Germ Band\n",
    "\n",
    "\n",
    "for i in range(1,2):   #7\n",
    "    xlow = 35 + i*dist\n",
    "    w = width*(1+i)\n",
    "\n",
    "    # prop2[(xx > xlow)*(xx < xhigh)*(zz > 30)] = 5.0 # \n",
    "\n",
    "    prop2[AB(xlow, w)*(zz>57)] = 5.0 # Dorsal Folds\n",
    "\n",
    "\n",
    "\n",
    "\n",
    "prop2[AB(15, 9)*(zz<97)*(zz>45)] = 5.0 # Cephalic Furrow\n",
    "\n",
    "# prop2[(xx > 30)*(xx < 97)*(zz < 50)*(yy< 50 + 40) * (yy > 50- 40)] = 1.0 # red\n",
    "\n",
    "\n",
    "# prop2[(xx > 85)*(xx < 92)] = 4.0 # light blue tip\n",
    "\n",
    "\n",
    "# prop2[angular_band(108, 0.3, 15, xx,zz)] = 3.0 # (PMG) Posterior Midgut Invagination\n",
    "\n",
    "# prop2[angular_band(113, 0.3, 8, xx,zz)] = 4.0 # (PMG) Posterior Midgut Invagination\n",
    "\n",
    "# prop2[angular_band(119, 0.3, 15, xx,zz)] = 3.0 # (PMG) Posterior Midgut Invagination\n",
    "# prop2[(xx > 94)*(zz>63)*(yy<50+16)*(yy>50-16)] = 3.0 # yellow tip \n",
    "\n",
    "\n",
    "prop2[(yy < 65)*(yy > 35)*(xx > 15)*(xx < 90)*(zz < 44)] = 2.0 # Ventral Furrow\n",
    "\n",
    "properties = prop2\n",
    "\n",
    "\n",
    "\n",
    "with h5py.File(\"runs/stas_no_pmg.hdf5\", \"w\") as f:\n",
    "    create = lambda name, data: f.create_dataset(name, data=data)\n",
    "\n",
    "    create(\"x\", poss)\n",
    "\n",
    "    create(\"properties\", [properties])\n",
    "\n",
    "    create(\"p\", p)\n",
    "\n",
    "    create(\"q\", q)\n",
    "\n",
    "    f.attrs.update(attrs)\n"
   ]
  },
  {
   "cell_type": "code",
   "execution_count": null,
   "metadata": {},
   "outputs": [],
   "source": [
    "# make 10_000 random points in a sphere\n",
    "\n",
    "n = 10_000\n",
    "\n",
    "r = np.random.uniform(0, 30, n)\n",
    "\n",
    "phi, theta = np.random.uniform(0, 2*np.pi, n), np.arccos(2*np.random.uniform(0, 1, n) - 1)\n",
    "\n",
    "x = r*np.sin(theta)*np.cos(phi)\n",
    "y = r*np.sin(theta)*np.sin(phi)\n",
    "z = r*np.cos(theta)\n",
    "\n",
    "poss = np.array([x, y, z]).T\n",
    "\n",
    "properties = np.zeros(n)\n",
    "\n",
    "## p and q are n random unit vectors\n",
    "p = np.random.normal(size=(n, 3)) \n",
    "p /= np.linalg.norm(p, axis=1)[:, None]\n",
    "\n",
    "q = np.random.normal(size=(n, 3))\n",
    "q /= np.linalg.norm(q, axis=1)[:, None]\n",
    "\n",
    "with h5py.File(\"runs/random_sphere.hdf5\", \"w\") as f:\n",
    "    create = lambda name, data: f.create_dataset(name, data=data)\n",
    "\n",
    "    create(\"x\", poss)\n",
    "\n",
    "    create(\"properties\", [properties])\n",
    "\n",
    "    create(\"p\", p)\n",
    "\n",
    "    create(\"q\", q)\n"
   ]
  },
  {
   "cell_type": "code",
   "execution_count": 10,
   "metadata": {},
   "outputs": [
    {
     "name": "stdout",
     "output_type": "stream",
     "text": [
      "(101, 10000, 3)\n",
      "(1010001, 3)\n"
     ]
    }
   ],
   "source": [
    "with h5py.File(\"runs/random_baby_3.hdf5\", \"r\") as f:\n",
    "    positions = f[\"x\"][::2,:,:]\n",
    "\n",
    "steps, N, _ = positions.shape\n",
    "print(positions.shape)\n",
    "# # flatten the positions\n",
    "positions = positions.reshape(steps*N, 3)\n",
    "\n",
    "# add the number og steps and N to the beginning of the array\n",
    "properties = np.zeros((1, 3), dtype=float)\n",
    "\n",
    "properties[0, 0] = N\n",
    "properties[0, 1] = steps\n",
    "properties[0, 2] = 0\n",
    "\n",
    "\n",
    "savedata = np.concatenate([properties, positions], axis=0)\n",
    "\n",
    "\n",
    "print(savedata.shape)\n",
    "# # save the positions to a csv file\n",
    "np.savetxt(\"runs/random_baby.csv\", savedata, delimiter=\",\")"
   ]
  }
 ],
 "metadata": {
  "kernelspec": {
   "display_name": "reworked",
   "language": "python",
   "name": "python3"
  },
  "language_info": {
   "codemirror_mode": {
    "name": "ipython",
    "version": 3
   },
   "file_extension": ".py",
   "mimetype": "text/x-python",
   "name": "python",
   "nbconvert_exporter": "python",
   "pygments_lexer": "ipython3",
   "version": "3.9.18"
  }
 },
 "nbformat": 4,
 "nbformat_minor": 2
}

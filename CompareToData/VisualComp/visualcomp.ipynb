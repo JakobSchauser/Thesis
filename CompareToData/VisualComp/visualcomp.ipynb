{
 "cells": [
  {
   "cell_type": "code",
   "execution_count": 1,
   "metadata": {},
   "outputs": [],
   "source": [
    "import numpy as np\n",
    "import h5py \n",
    "import cv2\n",
    "import matplotlib.pyplot as plt\n",
    "\n",
    "\n",
    "path = '../../CodePass2/runs/'\n",
    "path = \"D:/\"\n",
    "with h5py.File(path+'finale_normal.hdf5', 'r') as f:\n",
    "    # read the data\n",
    "    positions = f['x'][:]\n",
    "    properties = f['properties'][:][0]\n",
    "    p = f['p'][:]\n"
   ]
  },
  {
   "cell_type": "code",
   "execution_count": 2,
   "metadata": {},
   "outputs": [],
   "source": [
    "stas_vid_dir = \"../../StasVideos/fourway.mp4\"\n",
    "\n",
    "# read the frames from the video\n",
    "vid = cv2.VideoCapture(stas_vid_dir)\n",
    "frames = []\n",
    "while True:\n",
    "    ret, frame = vid.read()\n",
    "    if not ret:\n",
    "        break\n",
    "    frames.append(frame)"
   ]
  },
  {
   "cell_type": "code",
   "execution_count": null,
   "metadata": {},
   "outputs": [],
   "source": [
    "def plot_sim_img(i, ax):\n",
    "    xx, yy, zz = positions[i]\n",
    "\n",
    "    tooy = yy > 0.\n",
    "\n",
    "    ax.imshow(xx[tooy], zz[tooy], c=p[i][tooy], cmap='viridis', vmin=0, vmax=1)"
   ]
  },
  {
   "cell_type": "code",
   "execution_count": null,
   "metadata": {},
   "outputs": [],
   "source": [
    "xsize = 10\n",
    "ysize = 5\n",
    "n_images = 6\n",
    "fig, axs = plt.subplots(n_images, 2, figsize=(xsize, ysize*n_images), tight_layout=True)\n",
    "\n",
    "video_axs = axs[:, 0]\n",
    "sim_axs = axs[:, 1]\n",
    "\n",
    "sim_speed = 35\n",
    "stas_speed = 2\n",
    "\n",
    "for i in range(n_images):\n",
    "    video_axs[i].imshow(cv2.cvtColor(frames[i*stas_speed], cv2.COLOR_BGR2RGB))\n",
    "    video_axs[i].axis('off')\n",
    "    sim_axs[i].imshow(p[i*sim_speed])\n",
    "    sim_axs[i].axis('off')\n",
    "    break"
   ]
  }
 ],
 "metadata": {
  "kernelspec": {
   "display_name": "base",
   "language": "python",
   "name": "python3"
  },
  "language_info": {
   "codemirror_mode": {
    "name": "ipython",
    "version": 3
   },
   "file_extension": ".py",
   "mimetype": "text/x-python",
   "name": "python",
   "nbconvert_exporter": "python",
   "pygments_lexer": "ipython3",
   "version": "3.11.5"
  }
 },
 "nbformat": 4,
 "nbformat_minor": 2
}

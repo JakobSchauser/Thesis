{
 "cells": [
  {
   "cell_type": "code",
   "execution_count": 4,
   "metadata": {},
   "outputs": [],
   "source": [
    "import h5py\n",
    "import numpy as np"
   ]
  },
  {
   "cell_type": "code",
   "execution_count": 9,
   "metadata": {},
   "outputs": [
    {
     "name": "stdout",
     "output_type": "stream",
     "text": [
      "(150, 5000, 3, 3)\n",
      "(150, 5000, 3)\n",
      "(150, 5000, 3)\n",
      "(150, 5000, 3)\n"
     ]
    }
   ],
   "source": [
    "with h5py.File(\"runs/teresa_3_pressure.hdf5\", \"r\") as f:\n",
    "    attrs = dict(f.attrs)\n",
    "    cells = np.array(f[\"cells\"])\n",
    "    cell_properties = np.array(f[\"properties\"])\n",
    "\n",
    "\n",
    "print(cells.shape)\n",
    "poss = cells[:,:,0,:]\n",
    "\n",
    "print(poss.shape)\n",
    "p = cells[:,:,1,:]\n",
    "print(p.shape)\n",
    "q = cells[:,:,2,:]\n",
    "print(q.shape)\n",
    "\n",
    "\n",
    "with h5py.File(\"runs/first_new_egg.hdf5\", \"w\") as f:\n",
    "    create = lambda name, data: f.create_dataset(name, data=data)\n",
    "\n",
    "    create(\"x\", poss)\n",
    "\n",
    "    create(\"properties\", cell_properties)\n",
    "\n",
    "    create(\"p\", p)\n",
    "\n",
    "    create(\"q\", q)\n",
    "\n",
    "    f.attrs.update(attrs)\n"
   ]
  }
 ],
 "metadata": {
  "kernelspec": {
   "display_name": "reworked",
   "language": "python",
   "name": "python3"
  },
  "language_info": {
   "codemirror_mode": {
    "name": "ipython",
    "version": 3
   },
   "file_extension": ".py",
   "mimetype": "text/x-python",
   "name": "python",
   "nbconvert_exporter": "python",
   "pygments_lexer": "ipython3",
   "version": "3.9.18"
  }
 },
 "nbformat": 4,
 "nbformat_minor": 2
}

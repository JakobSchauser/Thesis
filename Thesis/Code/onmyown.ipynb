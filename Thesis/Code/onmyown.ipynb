{
 "cells": [
  {
   "cell_type": "code",
   "execution_count": 3,
   "metadata": {},
   "outputs": [],
   "source": [
    "import jax.numpy as jnp\n",
    "from jax import grad, jit, vmap"
   ]
  },
  {
   "cell_type": "code",
   "execution_count": 4,
   "metadata": {},
   "outputs": [],
   "source": [
    "G = {\n",
    "    \"beta\": 5.0,\n",
    "    \"lambda0\": 0.2,\n",
    "    \"lambda1\": 0.3,\n",
    "    \"lambda2\": 0.5,\n",
    "}\n",
    "\n",
    "class cell:\n",
    "    def __init__(self) -> None:\n",
    "        self.pos = jnp.array([0.0, 0.0, 0.0])\n",
    "\n",
    "        self.p = jnp.array([0.0, 0.0, 0.0])\n",
    "        self.q = jnp.array([0.0, 0.0, 0.0])\n",
    "\n",
    "    \n",
    "\n",
    "\n",
    "def quadruple(a1, a2, b1, b2): \n",
    "    return jnp.dot(jnp.cross(a1, b1), jnp.cross(a2, b2))\n",
    "\n",
    "def V(r):\n",
    "    return jnp.exp(-r) - S * jnp.exp(- r /G[\"beta\"])\n",
    "\n",
    "\n",
    "def S(c1 : cell, c2 : cell):\n",
    "    r = c1.pos - c2.pos\n",
    "    S1 = quadruple(c1.p, c2.p, r, r)\n",
    "    S2 = quadruple(c1.p, c2.p, c1.q, c2.q)\n",
    "    S3 = quadruple(c1.q, c2.q, r, r)\n",
    "\n",
    "    return G[\"lambda0\"]*S1 + G[\"lambda1\"]*S2 + G[\"lambda2\"]*S3\n",
    "\n"
   ]
  }
 ],
 "metadata": {
  "kernelspec": {
   "display_name": "thesis",
   "language": "python",
   "name": "python3"
  },
  "language_info": {
   "codemirror_mode": {
    "name": "ipython",
    "version": 3
   },
   "file_extension": ".py",
   "mimetype": "text/x-python",
   "name": "python",
   "nbconvert_exporter": "python",
   "pygments_lexer": "ipython3",
   "version": "3.12.0"
  }
 },
 "nbformat": 4,
 "nbformat_minor": 2
}
